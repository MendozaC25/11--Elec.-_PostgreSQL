{
 "cells": [
  {
   "cell_type": "code",
   "execution_count": 3,
   "metadata": {},
   "outputs": [],
   "source": [
    "import os\n",
    "import random\n",
    "import pandas as pd\n",
    "from datetime import datetime, timedelta\n",
    "import psycopg2\n",
    "from psycopg2 import sql"
   ]
  },
  {
   "cell_type": "code",
   "execution_count": 2,
   "metadata": {},
   "outputs": [
    {
     "name": "stdout",
     "output_type": "stream",
     "text": [
      "CSV generado: ./data/StudentsPerformance.csv\n"
     ]
    }
   ],
   "source": [
    "\n",
    "###############################################\n",
    "# PARTE 1: GENERAR EL CSV CON 100 REGISTROS\n",
    "###############################################\n",
    "\n",
    "csv_filename = \"./data/StudentsPerformance.csv\"\n",
    "\n",
    "# Si el CSV no existe, lo creamos con datos simulados\n",
    "if not os.path.isfile(csv_filename):\n",
    "    # Listas de valores posibles\n",
    "    genders = [\"male\", \"female\"]\n",
    "    parental_educations = [\"some high school\", \"high school\", \"some college\", \"associate's degree\", \"bachelor's degree\", \"master's degree\"]\n",
    "    lunches = [\"standard\", \"free/reduced\"]\n",
    "    test_preparations = [\"completed\", \"none\"]\n",
    "    \n",
    "    # Nombres y apellidos simulados\n",
    "    nombres = [\"Luis\", \"Ana\", \"Carlos\", \"Laura\", \"Pedro\", \"Maria\", \"Jorge\", \"Sofia\", \"Diego\", \"Elena\"]\n",
    "    apellidos = [\"Perez\", \"Martinez\", \"Sanchez\", \"Lopez\", \"Gomez\", \"Diaz\", \"Ruiz\", \"Ramirez\", \"Torres\", \"Flores\"]\n",
    "    \n",
    "    # Generar 100 registros aleatorios\n",
    "    data = []\n",
    "    for i in range(100):\n",
    "        gender = random.choice(genders)\n",
    "        parental_ed = random.choice(parental_educations)\n",
    "        lunch = random.choice(lunches)\n",
    "        test_prep = random.choice(test_preparations)\n",
    "        math_score = random.randint(0, 100)\n",
    "        reading_score = random.randint(0, 100)\n",
    "        writing_score = random.randint(0, 100)\n",
    "        nombre = random.choice(nombres)\n",
    "        apellido = random.choice(apellidos)\n",
    "        # Generar una fecha de \"inscripción\" aleatoria en el último año\n",
    "        date_added = (datetime.now() - timedelta(days=random.randint(0, 365))).strftime(\"%Y-%m-%d\")\n",
    "        \n",
    "        data.append({\n",
    "            \"gender\": gender,\n",
    "            \"parental level of education\": parental_ed,\n",
    "            \"lunch\": lunch,\n",
    "            \"test preparation course\": test_prep,\n",
    "            \"math score\": math_score,\n",
    "            \"reading score\": reading_score,\n",
    "            \"writing score\": writing_score,\n",
    "            \"Nombre\": nombre,\n",
    "            \"Apellido\": apellido,\n",
    "            \"date_added\": date_added\n",
    "        })\n",
    "        \n",
    "    # Crear el DataFrame y guardarlo en CSV\n",
    "    df_csv = pd.DataFrame(data)\n",
    "    df_csv.to_csv(csv_filename, index=False)\n",
    "    print(f\"CSV generado: {csv_filename}\")\n",
    "else:\n",
    "    print(f\"El CSV {csv_filename} ya existe.\")\n",
    "\n",
    "\n"
   ]
  },
  {
   "cell_type": "code",
   "execution_count": 4,
   "metadata": {},
   "outputs": [],
   "source": [
    "###############################################\n",
    "# PARTE 2: CREAR BASE DE DATOS, TABLAS E INSERTAR DATOS\n",
    "###############################################\n",
    "\n",
    "# Datos de conexión a PostgreSQL (ajusta según tu configuración)\n",
    "DB_HOST = \"localhost\"\n",
    "DB_PORT = \"5432\"\n",
    "DB_USER = \"postgres\"        # Reemplaza por tu usuario\n",
    "DB_PASSWORD = os.getenv('ypass_psql') # Reemplaza por tu contraseña\n",
    "\n",
    "# 1. Conectar a la base de datos \"postgres\" para crear la nueva base\n",
    "conn_master = psycopg2.connect(\n",
    "    dbname=\"postgres\",\n",
    "    user=DB_USER,\n",
    "    password=DB_PASSWORD,\n",
    "    host=DB_HOST,\n",
    "    port=DB_PORT\n",
    ")\n",
    "conn_master.autocommit = True\n",
    "cur_master = conn_master.cursor()"
   ]
  },
  {
   "cell_type": "code",
   "execution_count": 5,
   "metadata": {},
   "outputs": [],
   "source": [
    "# 2. Conectar a la base de datos Academia (Crear base de datos antes)\n",
    "conn = psycopg2.connect(\n",
    "    dbname=\"academia\",\n",
    "    user=DB_USER,\n",
    "    password=DB_PASSWORD,\n",
    "    host=DB_HOST,\n",
    "    port=DB_PORT\n",
    ")\n",
    "conn.autocommit = True\n",
    "cur = conn.cursor()"
   ]
  },
  {
   "cell_type": "code",
   "execution_count": 5,
   "metadata": {},
   "outputs": [],
   "source": [
    "# 3. Crear esquemas y tablas\n",
    "cur.execute(\"DROP SCHEMA IF EXISTS Estudiantes CASCADE;\")\n",
    "cur.execute(\"DROP SCHEMA IF EXISTS Cursos CASCADE;\")\n",
    "cur.execute(\"CREATE SCHEMA Estudiantes;\")\n",
    "cur.execute(\"CREATE SCHEMA Cursos;\")"
   ]
  },
  {
   "cell_type": "code",
   "execution_count": 6,
   "metadata": {},
   "outputs": [
    {
     "name": "stdout",
     "output_type": "stream",
     "text": [
      "Tablas creadas.\n"
     ]
    }
   ],
   "source": [
    "# Tabla de estudiantes (Información)\n",
    "create_table_estudiantes = \"\"\"\n",
    "CREATE TABLE Estudiantes.Informacion (\n",
    "    ID SERIAL PRIMARY KEY,\n",
    "    Nombre VARCHAR(50),\n",
    "    Apellido VARCHAR(50),\n",
    "    Gender VARCHAR(10),\n",
    "    ParentalEducation VARCHAR(50),\n",
    "    Lunch VARCHAR(20),\n",
    "    TestPreparation VARCHAR(20),\n",
    "    MathScore INT,\n",
    "    ReadingScore INT,\n",
    "    WritingScore INT,\n",
    "    DateAdded DATE\n",
    ");\n",
    "\"\"\"\n",
    "cur.execute(create_table_estudiantes)\n",
    "\n",
    "# Tabla de cursos (Información) – creamos algunos cursos ficticios\n",
    "create_table_cursos = \"\"\"\n",
    "CREATE TABLE Cursos.Informacion (\n",
    "    ID SERIAL PRIMARY KEY,\n",
    "    Nombre VARCHAR(100),\n",
    "    Descripcion TEXT,\n",
    "    FechaInicio DATE,\n",
    "    FechaFin DATE\n",
    ");\n",
    "\"\"\"\n",
    "cur.execute(create_table_cursos)\n",
    "\n",
    "# Tabla de inscripciones: relaciona estudiantes y cursos\n",
    "create_table_inscripciones = \"\"\"\n",
    "CREATE TABLE Estudiantes.Inscripciones (\n",
    "    ID SERIAL PRIMARY KEY,\n",
    "    EstudianteID INT,\n",
    "    CursoID INT,\n",
    "    FechaInscripcion DATE,\n",
    "    FOREIGN KEY (EstudianteID) REFERENCES Estudiantes.Informacion(ID),\n",
    "    FOREIGN KEY (CursoID) REFERENCES Cursos.Informacion(ID)\n",
    ");\n",
    "\"\"\"\n",
    "\n",
    "cur.execute(create_table_inscripciones)\n",
    "print(\"Tablas creadas.\")\n"
   ]
  },
  {
   "cell_type": "code",
   "execution_count": 7,
   "metadata": {},
   "outputs": [
    {
     "name": "stdout",
     "output_type": "stream",
     "text": [
      "Datos de estudiantes insertados.\n"
     ]
    }
   ],
   "source": [
    "\n",
    "# 4. Insertar datos en Estudiantes.Informacion desde el CSV generado\n",
    "df_students = pd.read_csv(csv_filename)\n",
    "\n",
    "# Insertar cada registro en la tabla de estudiantes\n",
    "insert_student_query = \"\"\"\n",
    "INSERT INTO Estudiantes.Informacion \n",
    "(Nombre, Apellido, Gender, ParentalEducation, Lunch, TestPreparation, MathScore, ReadingScore, WritingScore, DateAdded)\n",
    "VALUES (%s, %s, %s, %s, %s, %s, %s, %s, %s, %s);\n",
    "\"\"\"\n",
    "\n",
    "for _, row in df_students.iterrows():\n",
    "    cur.execute(insert_student_query, (\n",
    "        row[\"Nombre\"],\n",
    "        row[\"Apellido\"],\n",
    "        row[\"gender\"],\n",
    "        row[\"parental level of education\"],\n",
    "        row[\"lunch\"],\n",
    "        row[\"test preparation course\"],\n",
    "        row[\"math score\"],\n",
    "        row[\"reading score\"],\n",
    "        row[\"writing score\"],\n",
    "        row[\"date_added\"]\n",
    "    ))\n",
    "print(\"Datos de estudiantes insertados.\")\n"
   ]
  },
  {
   "cell_type": "code",
   "execution_count": 8,
   "metadata": {},
   "outputs": [
    {
     "name": "stdout",
     "output_type": "stream",
     "text": [
      "Datos de cursos insertados.\n"
     ]
    }
   ],
   "source": [
    "\n",
    "# 5. Insertar datos en Cursos.Informacion (cursos ficticios)\n",
    "insert_course_query = \"\"\"\n",
    "INSERT INTO Cursos.Informacion (Nombre, Descripcion, FechaInicio, FechaFin)\n",
    "VALUES (%s, %s, %s, %s);\n",
    "\"\"\"\n",
    "cursos = [\n",
    "    (\"Matematicas\", \"Curso de fundamentos de matematicas\", \"2024-09-01\", \"2024-12-15\"),\n",
    "    (\"Lectura\", \"Curso para mejorar la comprension lectora\", \"2024-09-01\", \"2024-12-15\"),\n",
    "    (\"Escritura\", \"Curso de redaccion y composicion\", \"2024-09-01\", \"2024-12-15\")\n",
    "]\n",
    "\n",
    "for curso in cursos:\n",
    "    cur.execute(insert_course_query, curso)\n",
    "print(\"Datos de cursos insertados.\")\n"
   ]
  },
  {
   "cell_type": "code",
   "execution_count": 13,
   "metadata": {},
   "outputs": [
    {
     "name": "stdout",
     "output_type": "stream",
     "text": [
      "[1, 2, 3, 4, 5, 6, 7, 8, 9, 10, 11, 12, 13, 14, 15, 16, 17, 18, 19, 20, 21, 22, 23, 24, 25, 26, 27, 28, 29, 30, 31, 32, 33, 34, 35, 36, 37, 38, 39, 40, 41, 42, 43, 44, 45, 46, 47, 48, 49, 50, 51, 52, 53, 54, 55, 56, 57, 58, 59, 60, 61, 62, 63, 64, 65, 66, 67, 68, 69, 70, 71, 72, 73, 74, 75, 76, 77, 78, 79, 80, 81, 82, 83, 84, 85, 86, 87, 88, 89, 90, 91, 92, 93, 94, 95, 96, 97, 98, 99, 100]\n"
     ]
    }
   ],
   "source": [
    "\n",
    "# 6. Generar inscripciones aleatorias\n",
    "cur.execute(\"SELECT ID FROM Estudiantes.Informacion;\")\n",
    "\n",
    "#print(cur.fetchall())\n",
    "\n",
    "estudiantes_ids = [row[0] for row in cur.fetchall()]\n",
    "\n",
    "print(estudiantes_ids)"
   ]
  },
  {
   "cell_type": "code",
   "execution_count": 14,
   "metadata": {},
   "outputs": [
    {
     "name": "stdout",
     "output_type": "stream",
     "text": [
      "Inscripciones generadas.\n"
     ]
    }
   ],
   "source": [
    "\n",
    "cur.execute(\"SELECT ID FROM Cursos.Informacion;\")\n",
    "cursos_ids = [row[0] for row in cur.fetchall()]\n",
    "\n",
    "insert_inscripcion_query = \"\"\"\n",
    "INSERT INTO Estudiantes.Inscripciones (EstudianteID, CursoID, FechaInscripcion)\n",
    "VALUES (%s, %s, %s);\n",
    "\"\"\"\n",
    "\n",
    "for est_id in estudiantes_ids:\n",
    "    curso_id = random.choice(cursos_ids)\n",
    "    # Para demostracion, usamos una fecha fija o generada aleatoriamente\n",
    "    fecha_inscripcion = datetime.strptime(\"2024-08-15\", \"%Y-%m-%d\").date()\n",
    "    cur.execute(insert_inscripcion_query, (est_id, curso_id, fecha_inscripcion))\n",
    "print(\"Inscripciones generadas.\")\n"
   ]
  },
  {
   "cell_type": "code",
   "execution_count": 24,
   "metadata": {},
   "outputs": [
    {
     "data": {
      "text/html": [
       "<div>\n",
       "<style scoped>\n",
       "    .dataframe tbody tr th:only-of-type {\n",
       "        vertical-align: middle;\n",
       "    }\n",
       "\n",
       "    .dataframe tbody tr th {\n",
       "        vertical-align: top;\n",
       "    }\n",
       "\n",
       "    .dataframe thead th {\n",
       "        text-align: right;\n",
       "    }\n",
       "</style>\n",
       "<table border=\"1\" class=\"dataframe\">\n",
       "  <thead>\n",
       "    <tr style=\"text-align: right;\">\n",
       "      <th></th>\n",
       "      <th>Nombre</th>\n",
       "      <th>Apellido</th>\n",
       "      <th>CursoNombre</th>\n",
       "      <th>FechaInscripcion</th>\n",
       "    </tr>\n",
       "  </thead>\n",
       "  <tbody>\n",
       "    <tr>\n",
       "      <th>0</th>\n",
       "      <td>Laura</td>\n",
       "      <td>Sanchez</td>\n",
       "      <td>Matematicas</td>\n",
       "      <td>2024-08-15</td>\n",
       "    </tr>\n",
       "    <tr>\n",
       "      <th>1</th>\n",
       "      <td>Laura</td>\n",
       "      <td>Lopez</td>\n",
       "      <td>Matematicas</td>\n",
       "      <td>2024-08-15</td>\n",
       "    </tr>\n",
       "    <tr>\n",
       "      <th>2</th>\n",
       "      <td>Jorge</td>\n",
       "      <td>Sanchez</td>\n",
       "      <td>Escritura</td>\n",
       "      <td>2024-08-15</td>\n",
       "    </tr>\n",
       "    <tr>\n",
       "      <th>3</th>\n",
       "      <td>Maria</td>\n",
       "      <td>Ramirez</td>\n",
       "      <td>Escritura</td>\n",
       "      <td>2024-08-15</td>\n",
       "    </tr>\n",
       "    <tr>\n",
       "      <th>4</th>\n",
       "      <td>Laura</td>\n",
       "      <td>Sanchez</td>\n",
       "      <td>Lectura</td>\n",
       "      <td>2024-08-15</td>\n",
       "    </tr>\n",
       "    <tr>\n",
       "      <th>...</th>\n",
       "      <td>...</td>\n",
       "      <td>...</td>\n",
       "      <td>...</td>\n",
       "      <td>...</td>\n",
       "    </tr>\n",
       "    <tr>\n",
       "      <th>95</th>\n",
       "      <td>Maria</td>\n",
       "      <td>Gomez</td>\n",
       "      <td>Matematicas</td>\n",
       "      <td>2024-08-15</td>\n",
       "    </tr>\n",
       "    <tr>\n",
       "      <th>96</th>\n",
       "      <td>Laura</td>\n",
       "      <td>Ruiz</td>\n",
       "      <td>Matematicas</td>\n",
       "      <td>2024-08-15</td>\n",
       "    </tr>\n",
       "    <tr>\n",
       "      <th>97</th>\n",
       "      <td>Jorge</td>\n",
       "      <td>Torres</td>\n",
       "      <td>Escritura</td>\n",
       "      <td>2024-08-15</td>\n",
       "    </tr>\n",
       "    <tr>\n",
       "      <th>98</th>\n",
       "      <td>Laura</td>\n",
       "      <td>Gomez</td>\n",
       "      <td>Lectura</td>\n",
       "      <td>2024-08-15</td>\n",
       "    </tr>\n",
       "    <tr>\n",
       "      <th>99</th>\n",
       "      <td>Pedro</td>\n",
       "      <td>Gomez</td>\n",
       "      <td>Escritura</td>\n",
       "      <td>2024-08-15</td>\n",
       "    </tr>\n",
       "  </tbody>\n",
       "</table>\n",
       "<p>100 rows × 4 columns</p>\n",
       "</div>"
      ],
      "text/plain": [
       "   Nombre Apellido  CursoNombre FechaInscripcion\n",
       "0   Laura  Sanchez  Matematicas       2024-08-15\n",
       "1   Laura    Lopez  Matematicas       2024-08-15\n",
       "2   Jorge  Sanchez    Escritura       2024-08-15\n",
       "3   Maria  Ramirez    Escritura       2024-08-15\n",
       "4   Laura  Sanchez      Lectura       2024-08-15\n",
       "..    ...      ...          ...              ...\n",
       "95  Maria    Gomez  Matematicas       2024-08-15\n",
       "96  Laura     Ruiz  Matematicas       2024-08-15\n",
       "97  Jorge   Torres    Escritura       2024-08-15\n",
       "98  Laura    Gomez      Lectura       2024-08-15\n",
       "99  Pedro    Gomez    Escritura       2024-08-15\n",
       "\n",
       "[100 rows x 4 columns]"
      ]
     },
     "execution_count": 24,
     "metadata": {},
     "output_type": "execute_result"
    }
   ],
   "source": [
    "\n",
    "###############################################\n",
    "# PARTE 3: EJEMPLOS DE CONSULTAS SQL (JOINs, SUBCONSULTAS, OPERADORES)\n",
    "###############################################\n",
    "\n",
    "# Ejemplo 1: INNER JOIN - Estudiantes inscritos con su curso\n",
    "query_inner_join = \"\"\"\n",
    "SELECT E.Nombre, E.Apellido, C.Nombre AS CursoNombre, I.FechaInscripcion\n",
    "FROM Estudiantes.Informacion E\n",
    "INNER JOIN Estudiantes.Inscripciones I ON E.ID = I.EstudianteID\n",
    "INNER JOIN Cursos.Informacion C ON I.CursoID = C.ID;\n",
    "\"\"\"\n",
    "cur.execute(query_inner_join)\n",
    "\n",
    "# Obtener los datos\n",
    "data = cur.fetchall()\n",
    "\n",
    "# Convertir a DataFrame\n",
    "df = pd.DataFrame(data, columns=[\"Nombre\", \"Apellido\", \"CursoNombre\", \"FechaInscripcion\"])\n",
    "\n",
    "# Mostrar el DataFrame\n",
    "df"
   ]
  },
  {
   "cell_type": "code",
   "execution_count": 25,
   "metadata": {},
   "outputs": [
    {
     "name": "stdout",
     "output_type": "stream",
     "text": [
      "   nombre apellido  cursonombre fechainscripcion\n",
      "0   Laura  Sanchez  Matematicas       2024-08-15\n",
      "1   Laura    Lopez  Matematicas       2024-08-15\n",
      "2   Jorge  Sanchez    Escritura       2024-08-15\n",
      "3   Maria  Ramirez    Escritura       2024-08-15\n",
      "4   Laura  Sanchez      Lectura       2024-08-15\n",
      "..    ...      ...          ...              ...\n",
      "95  Maria    Gomez  Matematicas       2024-08-15\n",
      "96  Laura     Ruiz  Matematicas       2024-08-15\n",
      "97  Jorge   Torres    Escritura       2024-08-15\n",
      "98  Laura    Gomez      Lectura       2024-08-15\n",
      "99  Pedro    Gomez    Escritura       2024-08-15\n",
      "\n",
      "[100 rows x 4 columns]\n"
     ]
    }
   ],
   "source": [
    "# Obtener los nombres de las columnas automáticamente\n",
    "column_names = [desc[0] for desc in cur.description]\n",
    "\n",
    "# Convertir a DataFrame\n",
    "df = pd.DataFrame(data, columns=column_names)\n",
    "\n",
    "# Mostrar el DataFrame\n",
    "print(df)"
   ]
  },
  {
   "cell_type": "code",
   "execution_count": 27,
   "metadata": {},
   "outputs": [
    {
     "name": "stdout",
     "output_type": "stream",
     "text": [
      "\n",
      "LEFT JOIN - Todos los estudiantes y sus inscripciones:\n",
      "   Nombre Apellido  CursoNombre FechaInscripcion\n",
      "0   Laura  Sanchez  Matematicas       2024-08-15\n",
      "1   Laura    Lopez  Matematicas       2024-08-15\n",
      "2   Jorge  Sanchez    Escritura       2024-08-15\n",
      "3   Maria  Ramirez    Escritura       2024-08-15\n",
      "4   Laura  Sanchez      Lectura       2024-08-15\n",
      "..    ...      ...          ...              ...\n",
      "95  Maria    Gomez  Matematicas       2024-08-15\n",
      "96  Laura     Ruiz  Matematicas       2024-08-15\n",
      "97  Jorge   Torres    Escritura       2024-08-15\n",
      "98  Laura    Gomez      Lectura       2024-08-15\n",
      "99  Pedro    Gomez    Escritura       2024-08-15\n",
      "\n",
      "[100 rows x 4 columns]\n"
     ]
    }
   ],
   "source": [
    "# Ejemplo 2: LEFT JOIN - Mostrar todos los estudiantes y sus inscripciones (si existen)\n",
    "\n",
    "query_left_join = \"\"\"\n",
    "SELECT E.Nombre, E.Apellido, C.Nombre AS CursoNombre, I.FechaInscripcion\n",
    "FROM Estudiantes.Informacion E\n",
    "LEFT JOIN Estudiantes.Inscripciones I ON E.ID = I.EstudianteID\n",
    "LEFT JOIN Cursos.Informacion C ON I.CursoID = C.ID;\n",
    "\"\"\"\n",
    "cur.execute(query_left_join)\n",
    "left_join_df = pd.DataFrame(cur.fetchall(), columns=[\"Nombre\", \"Apellido\", \"CursoNombre\", \"FechaInscripcion\"])\n",
    "print(\"\\nLEFT JOIN - Todos los estudiantes y sus inscripciones:\")\n",
    "print(left_join_df)"
   ]
  },
  {
   "cell_type": "code",
   "execution_count": 28,
   "metadata": {},
   "outputs": [
    {
     "name": "stdout",
     "output_type": "stream",
     "text": [
      "\n",
      "Subconsulta - Numero de estudiantes por curso:\n",
      "   CursoNombre  NumeroEstudiantes\n",
      "0  Matematicas                 35\n",
      "1      Lectura                 29\n",
      "2    Escritura                 36\n"
     ]
    }
   ],
   "source": [
    "# Ejemplo 3: Subconsulta - Contar estudiantes inscritos por curso\n",
    "query_subconsulta = \"\"\"\n",
    "SELECT C.Nombre,\n",
    "       (SELECT COUNT(*) \n",
    "        FROM Estudiantes.Inscripciones I \n",
    "        WHERE I.CursoID = C.ID) AS NumeroEstudiantes\n",
    "FROM Cursos.Informacion C;\n",
    "\"\"\"\n",
    "cur.execute(query_subconsulta)\n",
    "subconsulta_df = pd.DataFrame(cur.fetchall(), columns=[\"CursoNombre\", \"NumeroEstudiantes\"])\n",
    "print(\"\\nSubconsulta - Numero de estudiantes por curso:\")\n",
    "print(subconsulta_df)"
   ]
  },
  {
   "cell_type": "code",
   "execution_count": 30,
   "metadata": {},
   "outputs": [
    {
     "name": "stdout",
     "output_type": "stream",
     "text": [
      "\n",
      "Subconsulta en WHERE - Cursos con mas de 30 estudiante:\n",
      "   CursoNombre\n",
      "0  Matematicas\n",
      "1    Escritura\n"
     ]
    }
   ],
   "source": [
    "# Ejemplo 4: Subconsulta en WHERE - Cursos con más de 30 estudiante inscrito\n",
    "query_subconsulta_where = \"\"\"\n",
    "SELECT Nombre\n",
    "FROM Cursos.Informacion\n",
    "WHERE (SELECT COUNT(*) \n",
    "       FROM Estudiantes.Inscripciones I \n",
    "       WHERE I.CursoID = Cursos.Informacion.ID) > 30;\n",
    "\"\"\"\n",
    "cur.execute(query_subconsulta_where)\n",
    "subconsulta_where_df = pd.DataFrame(cur.fetchall(), columns=[\"CursoNombre\"])\n",
    "print(\"\\nSubconsulta en WHERE - Cursos con mas de 30 estudiante:\")\n",
    "print(subconsulta_where_df)\n"
   ]
  },
  {
   "cell_type": "markdown",
   "metadata": {},
   "source": [
    "### Ejercicios adicionales con filtros de tiempo"
   ]
  },
  {
   "cell_type": "code",
   "execution_count": 32,
   "metadata": {},
   "outputs": [
    {
     "name": "stdout",
     "output_type": "stream",
     "text": [
      "\n",
      "Estudiantes inscritos antes de '2025-01-01':\n",
      "   Nombre Apellido FechaInscripcion\n",
      "0   Laura  Sanchez       2024-08-15\n",
      "1   Laura    Lopez       2024-08-15\n",
      "2   Jorge  Sanchez       2024-08-15\n",
      "3   Maria  Ramirez       2024-08-15\n",
      "4   Laura  Sanchez       2024-08-15\n",
      "..    ...      ...              ...\n",
      "95  Maria    Gomez       2024-08-15\n",
      "96  Laura     Ruiz       2024-08-15\n",
      "97  Jorge   Torres       2024-08-15\n",
      "98  Laura    Gomez       2024-08-15\n",
      "99  Pedro    Gomez       2024-08-15\n",
      "\n",
      "[100 rows x 3 columns]\n"
     ]
    }
   ],
   "source": [
    "# Ejercicio 1: Consultar estudiantes inscritos antes de una fecha específica\n",
    "query_1 = \"\"\"\n",
    "SELECT \n",
    "    E.Nombre, \n",
    "    E.Apellido, \n",
    "    I.FechaInscripcion\n",
    "FROM Estudiantes.Informacion E\n",
    "JOIN Estudiantes.Inscripciones I ON E.ID = I.EstudianteID\n",
    "WHERE I.FechaInscripcion < '2025-01-01';\n",
    "\"\"\"\n",
    "\n",
    "cur.execute(query_1)\n",
    "df_1 = pd.DataFrame(cur.fetchall(), columns=['Nombre', 'Apellido', 'FechaInscripcion'])\n",
    "print(\"\\nEstudiantes inscritos antes de '2025-01-01':\")\n",
    "print(df_1)"
   ]
  },
  {
   "cell_type": "code",
   "execution_count": 34,
   "metadata": {},
   "outputs": [
    {
     "name": "stdout",
     "output_type": "stream",
     "text": [
      "\n",
      "Cursos con inscripciones entre '2023-01-01' y '2023-12-31':\n",
      "    CursoNombre FechaInscripcion\n",
      "0   Matematicas       2024-08-15\n",
      "1   Matematicas       2024-08-15\n",
      "2     Escritura       2024-08-15\n",
      "3     Escritura       2024-08-15\n",
      "4       Lectura       2024-08-15\n",
      "..          ...              ...\n",
      "95  Matematicas       2024-08-15\n",
      "96  Matematicas       2024-08-15\n",
      "97    Escritura       2024-08-15\n",
      "98      Lectura       2024-08-15\n",
      "99    Escritura       2024-08-15\n",
      "\n",
      "[100 rows x 2 columns]\n"
     ]
    }
   ],
   "source": [
    "# Ejercicio 2: Consultar cursos con inscripciones en un rango de fechas\n",
    "query_2 = \"\"\"\n",
    "SELECT \n",
    "    C.Nombre AS CursoNombre, \n",
    "    I.FechaInscripcion\n",
    "FROM Cursos.Informacion C\n",
    "JOIN Estudiantes.Inscripciones I ON C.ID = I.CursoID\n",
    "WHERE I.FechaInscripcion BETWEEN '2023-01-01' AND '2025-01-01';\n",
    "\"\"\"\n",
    "cur.execute(query_2)\n",
    "df_2 = pd.DataFrame(cur.fetchall(), columns=['CursoNombre', 'FechaInscripcion'])\n",
    "print(\"\\nCursos con inscripciones entre '2023-01-01' y '2023-12-31':\")\n",
    "print(df_2)\n"
   ]
  },
  {
   "cell_type": "code",
   "execution_count": 6,
   "metadata": {},
   "outputs": [
    {
     "name": "stdout",
     "output_type": "stream",
     "text": [
      "\n",
      "Conexión cerrada.\n"
     ]
    }
   ],
   "source": [
    "###############################################\n",
    "# PARTE 4: CERRAR CONEXIÓN\n",
    "###############################################\n",
    "cur.close()\n",
    "conn.close()\n",
    "print(\"\\nConexión cerrada.\")"
   ]
  }
 ],
 "metadata": {
  "kernelspec": {
   "display_name": "hft",
   "language": "python",
   "name": "python3"
  },
  "language_info": {
   "codemirror_mode": {
    "name": "ipython",
    "version": 3
   },
   "file_extension": ".py",
   "mimetype": "text/x-python",
   "name": "python",
   "nbconvert_exporter": "python",
   "pygments_lexer": "ipython3",
   "version": "3.11.5"
  }
 },
 "nbformat": 4,
 "nbformat_minor": 2
}
