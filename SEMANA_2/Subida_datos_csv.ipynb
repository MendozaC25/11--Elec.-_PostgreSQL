{
 "cells": [
  {
   "cell_type": "code",
   "execution_count": 1,
   "metadata": {},
   "outputs": [],
   "source": [
    "import psycopg2\n",
    "import pandas as pd\n",
    "import os"
   ]
  },
  {
   "cell_type": "markdown",
   "metadata": {},
   "source": [
    "### Pasos para generar variable de entorno en MAC/LINUX"
   ]
  },
  {
   "cell_type": "markdown",
   "metadata": {},
   "source": [
    "- Abrir tu terminal\n",
    "- Tipear el siguiente comando en el terminal y ejecutarlo:  \n",
    "  ```bash\n",
    "  nano ~/.zshrc\n",
    "- Colocar la variable de entorno al final del archivo\n",
    "  ```bash\n",
    "  export MI_VARIABLE=\"mi_valor\"\n",
    "- Luego de colocar la variable, presiona CTRL + O, luego Enter, y CTRL + X para salir.\n",
    "- Tipear y ejecutar el siguiente comando en el terminal\n",
    "  ```bash\n",
    "  source ~/.zshrc\n",
    "- Verificar que la variable se haya definido\n",
    "  ```bash\n",
    "  echo $MI_VARIABLE\n",
    "- Abrir python y usar el paquete os para importar tu variable de entorno\n",
    "\n",
    "\n",
    "\n"
   ]
  },
  {
   "cell_type": "markdown",
   "metadata": {},
   "source": [
    "### 🌐 Usando Python para subir datos\n",
    "\n",
    "Para completar la misión, el equipo desea automatizar la carga de datos usando Python. Aquí usamos la librería psycopg2 para subir información desde archivos .csv."
   ]
  },
  {
   "cell_type": "code",
   "execution_count": 5,
   "metadata": {},
   "outputs": [
    {
     "name": "stdout",
     "output_type": "stream",
     "text": [
      "Conexión exitosa a la base de datos.\n"
     ]
    }
   ],
   "source": [
    "# Establecer la conexión a la base de datos\n",
    "def conectar_a_base_de_datos():\n",
    "    conn_info = {\n",
    "        \"host\": \"localhost\",  # Cambia esto si tu base no está en localhost\n",
    "        \"database\": \"techmartdb\",  #OJO : siempre en minúsculas\n",
    "        \"user\": \"postgres\",\n",
    "        \"password\": os.getenv('ypass_psql'),\n",
    "        \"port\": 5432  # Puerto por defecto\n",
    "    }\n",
    "    \n",
    "    try:\n",
    "        # Establecer conexión con la base de datos\n",
    "        conn = psycopg2.connect(**conn_info)\n",
    "        print(\"Conexión exitosa a la base de datos.\")\n",
    "        return conn\n",
    "    except Exception as e:\n",
    "        print(f\"Error al conectar a la base de datos: {e}\")\n",
    "        return None\n",
    "\n",
    "# Conectar a la base de datos\n",
    "conn = conectar_a_base_de_datos()"
   ]
  },
  {
   "cell_type": "code",
   "execution_count": 7,
   "metadata": {},
   "outputs": [],
   "source": [
    "# Leer datos desde un archivo CSV\n",
    "df = pd.read_csv(\"./data/productos_nuevos.csv\")"
   ]
  },
  {
   "cell_type": "code",
   "execution_count": 8,
   "metadata": {},
   "outputs": [
    {
     "data": {
      "text/html": [
       "<div>\n",
       "<style scoped>\n",
       "    .dataframe tbody tr th:only-of-type {\n",
       "        vertical-align: middle;\n",
       "    }\n",
       "\n",
       "    .dataframe tbody tr th {\n",
       "        vertical-align: top;\n",
       "    }\n",
       "\n",
       "    .dataframe thead th {\n",
       "        text-align: right;\n",
       "    }\n",
       "</style>\n",
       "<table border=\"1\" class=\"dataframe\">\n",
       "  <thead>\n",
       "    <tr style=\"text-align: right;\">\n",
       "      <th></th>\n",
       "      <th>ProductName</th>\n",
       "      <th>UnitPrice</th>\n",
       "      <th>UnitsInStock</th>\n",
       "      <th>UnitsOnOrder</th>\n",
       "      <th>DateAdded</th>\n",
       "    </tr>\n",
       "  </thead>\n",
       "  <tbody>\n",
       "    <tr>\n",
       "      <th>0</th>\n",
       "      <td>Laptop Pro</td>\n",
       "      <td>1200.50</td>\n",
       "      <td>15</td>\n",
       "      <td>5</td>\n",
       "      <td>2024-11-25</td>\n",
       "    </tr>\n",
       "    <tr>\n",
       "      <th>1</th>\n",
       "      <td>Teclado Mecánico</td>\n",
       "      <td>85.75</td>\n",
       "      <td>50</td>\n",
       "      <td>10</td>\n",
       "      <td>2024-12-28</td>\n",
       "    </tr>\n",
       "    <tr>\n",
       "      <th>2</th>\n",
       "      <td>Monitor Ultra HD</td>\n",
       "      <td>320.00</td>\n",
       "      <td>8</td>\n",
       "      <td>20</td>\n",
       "      <td>2024-11-20</td>\n",
       "    </tr>\n",
       "    <tr>\n",
       "      <th>3</th>\n",
       "      <td>Mouse Gamer</td>\n",
       "      <td>45.90</td>\n",
       "      <td>100</td>\n",
       "      <td>30</td>\n",
       "      <td>2024-12-01</td>\n",
       "    </tr>\n",
       "    <tr>\n",
       "      <th>4</th>\n",
       "      <td>Audífonos Inalámbricos</td>\n",
       "      <td>65.30</td>\n",
       "      <td>60</td>\n",
       "      <td>15</td>\n",
       "      <td>2024-10-17</td>\n",
       "    </tr>\n",
       "    <tr>\n",
       "      <th>5</th>\n",
       "      <td>Impresora Multifunción</td>\n",
       "      <td>150.00</td>\n",
       "      <td>20</td>\n",
       "      <td>5</td>\n",
       "      <td>2025-01-06</td>\n",
       "    </tr>\n",
       "    <tr>\n",
       "      <th>6</th>\n",
       "      <td>Tablet 10 pulgadas</td>\n",
       "      <td>250.75</td>\n",
       "      <td>30</td>\n",
       "      <td>12</td>\n",
       "      <td>2024-12-23</td>\n",
       "    </tr>\n",
       "    <tr>\n",
       "      <th>7</th>\n",
       "      <td>Cámara Web 1080p</td>\n",
       "      <td>70.00</td>\n",
       "      <td>40</td>\n",
       "      <td>8</td>\n",
       "      <td>2024-10-09</td>\n",
       "    </tr>\n",
       "    <tr>\n",
       "      <th>8</th>\n",
       "      <td>Disco Duro Externo 1TB</td>\n",
       "      <td>110.50</td>\n",
       "      <td>25</td>\n",
       "      <td>10</td>\n",
       "      <td>2024-09-27</td>\n",
       "    </tr>\n",
       "    <tr>\n",
       "      <th>9</th>\n",
       "      <td>Router WiFi 6</td>\n",
       "      <td>90.00</td>\n",
       "      <td>15</td>\n",
       "      <td>4</td>\n",
       "      <td>2024-08-12</td>\n",
       "    </tr>\n",
       "  </tbody>\n",
       "</table>\n",
       "</div>"
      ],
      "text/plain": [
       "              ProductName  UnitPrice  UnitsInStock  UnitsOnOrder   DateAdded\n",
       "0              Laptop Pro    1200.50            15             5  2024-11-25\n",
       "1        Teclado Mecánico      85.75            50            10  2024-12-28\n",
       "2        Monitor Ultra HD     320.00             8            20  2024-11-20\n",
       "3             Mouse Gamer      45.90           100            30  2024-12-01\n",
       "4  Audífonos Inalámbricos      65.30            60            15  2024-10-17\n",
       "5  Impresora Multifunción     150.00            20             5  2025-01-06\n",
       "6      Tablet 10 pulgadas     250.75            30            12  2024-12-23\n",
       "7        Cámara Web 1080p      70.00            40             8  2024-10-09\n",
       "8  Disco Duro Externo 1TB     110.50            25            10  2024-09-27\n",
       "9           Router WiFi 6      90.00            15             4  2024-08-12"
      ]
     },
     "execution_count": 8,
     "metadata": {},
     "output_type": "execute_result"
    }
   ],
   "source": [
    "df"
   ]
  },
  {
   "cell_type": "code",
   "execution_count": 10,
   "metadata": {},
   "outputs": [],
   "source": [
    "# Insertar datos en la tabla Productos\n",
    "cursor = conn.cursor()\n",
    "for index, row in df.iterrows():\n",
    "    cursor.execute(\"\"\"\n",
    "        INSERT INTO Productos (ProductName, UnitPrice, UnitsInStock, UnitsOnOrder, DateAdded)\n",
    "        VALUES (%s, %s, %s, %s, %s)\n",
    "    \"\"\", (row['ProductName'], row['UnitPrice'], row['UnitsInStock'], row['UnitsOnOrder'], row['DateAdded']))\n",
    "\n",
    "conn.commit()\n",
    "cursor.close()\n",
    "conn.close()"
   ]
  },
  {
   "cell_type": "markdown",
   "metadata": {},
   "source": [
    "### 🔄 Opciones para reemplazar datos en PostgreSQL con Python\n"
   ]
  },
  {
   "cell_type": "markdown",
   "metadata": {},
   "source": [
    "🔹 Opción 1: Eliminar todos los datos antes de insertar (TRUNCATE)\n"
   ]
  },
  {
   "cell_type": "code",
   "execution_count": 16,
   "metadata": {},
   "outputs": [],
   "source": [
    "# Conexión a PostgreSQL\n",
    "conn = psycopg2.connect(\n",
    "    dbname=\"techmartdb\",\n",
    "    user=\"postgres\",\n",
    "    password= os.getenv('ypass_psql'),\n",
    "    host=\"localhost\",\n",
    "    port=\"5432\"\n",
    ")\n",
    "cur = conn.cursor()\n"
   ]
  },
  {
   "cell_type": "code",
   "execution_count": 17,
   "metadata": {},
   "outputs": [],
   "source": [
    "# Borrar todos los registros de la tabla antes de insertar\n",
    "cur.execute(\"TRUNCATE TABLE productos RESTART IDENTITY;\")\n",
    "conn.commit()"
   ]
  },
  {
   "cell_type": "markdown",
   "metadata": {},
   "source": [
    "**📝 Explicación:**\n",
    "\n",
    "- TRUNCATE TABLE productos RESTART IDENTITY; borra todos los registros y reinicia los IDs para que empiecen desde 1.\n",
    "- Luego, el script inserta los nuevos datos.\n"
   ]
  },
  {
   "cell_type": "code",
   "execution_count": 13,
   "metadata": {},
   "outputs": [],
   "source": [
    "# Insertar los datos en PostgreSQL\n",
    "for _, row in df.iterrows():\n",
    "    cur.execute(\n",
    "        \"INSERT INTO productos (productname, unitprice, unitsinstock, unitsonorder, dateadded) VALUES (%s, %s, %s, %s, %s);\",\n",
    "        (row[\"ProductName\"], row[\"UnitPrice\"], row[\"UnitsInStock\"], row[\"UnitsOnOrder\"], row[\"DateAdded\"])\n",
    "    )"
   ]
  },
  {
   "cell_type": "code",
   "execution_count": 14,
   "metadata": {},
   "outputs": [],
   "source": [
    "conn.commit()\n",
    "cur.close()\n",
    "conn.close()"
   ]
  },
  {
   "cell_type": "markdown",
   "metadata": {},
   "source": [
    "🔹 Opción 2: Actualizar datos si existen, insertar si no (UPSERT con ON CONFLICT)"
   ]
  },
  {
   "cell_type": "markdown",
   "metadata": {},
   "source": [
    " *🛠️ Asegurar que `ProductName` sea único en la tabla*\n",
    "\n",
    "Para evitar duplicados en la columna `ProductName`, agregamos una restricción `UNIQUE` en la base de datos PostgreSQL.\n",
    "\n",
    "```sql\n",
    "ALTER TABLE productos ADD CONSTRAINT unique_productname UNIQUE (productname);\n"
   ]
  },
  {
   "cell_type": "code",
   "execution_count": 19,
   "metadata": {},
   "outputs": [],
   "source": [
    "# Insertar o actualizar datos\n",
    "for _, row in df.iterrows():\n",
    "    cur.execute(\"\"\"\n",
    "        INSERT INTO productos (productname, unitprice, unitsinstock, unitsonorder, dateadded)\n",
    "        VALUES (%s, %s, %s, %s, %s)\n",
    "        ON CONFLICT (productname) DO UPDATE SET \n",
    "            unitprice = EXCLUDED.unitprice,\n",
    "            unitsinstock = EXCLUDED.unitsinstock,\n",
    "            unitsonorder = EXCLUDED.unitsonorder,\n",
    "            dateadded = EXCLUDED.dateadded;\n",
    "    \"\"\", (row[\"ProductName\"], row[\"UnitPrice\"], row[\"UnitsInStock\"], row[\"UnitsOnOrder\"], row[\"DateAdded\"]))\n",
    "\n"
   ]
  },
  {
   "cell_type": "code",
   "execution_count": 20,
   "metadata": {},
   "outputs": [],
   "source": [
    "conn.commit()\n",
    "cur.close()\n",
    "conn.close()"
   ]
  },
  {
   "cell_type": "markdown",
   "metadata": {},
   "source": [
    "**✅ Explicación:**\n",
    "\n",
    "🔹 **ON CONFLICT (productname)**: Si `ProductName` ya existe, en vez de insertar, **actualiza los valores**.  \n",
    "🔹 **Si no existe**, lo inserta como un **nuevo producto**.  \n"
   ]
  }
 ],
 "metadata": {
  "kernelspec": {
   "display_name": "hft",
   "language": "python",
   "name": "python3"
  },
  "language_info": {
   "codemirror_mode": {
    "name": "ipython",
    "version": 3
   },
   "file_extension": ".py",
   "mimetype": "text/x-python",
   "name": "python",
   "nbconvert_exporter": "python",
   "pygments_lexer": "ipython3",
   "version": "3.11.5"
  }
 },
 "nbformat": 4,
 "nbformat_minor": 2
}
