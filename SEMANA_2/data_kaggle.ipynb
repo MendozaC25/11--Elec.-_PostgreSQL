{
 "cells": [
  {
   "cell_type": "markdown",
   "metadata": {},
   "source": [
    "# 📝 Ejercicio: Creación y Carga de Base de Datos en PostgreSQL\n",
    "\n",
    "1. **Descargar la base de datos de Kaggle** 📥  \n",
    "   - Dirígete a [Kaggle](https://www.kaggle.com/) y descarga una base de datos de tu interés. Asegúrate de obtener un archivo en formato `.csv`, `.xlsx` o algún formato compatible con PostgreSQL.\n",
    "\n",
    "2. **Crear base de datos en PostgreSQL** 🛠️  \n",
    "3. **Conectarse a la base de datos en Python** 🔌\n",
    "4. **Crear tablas y subirlas 📊**\n",
    "\n",
    "\n"
   ]
  },
  {
   "cell_type": "code",
   "execution_count": null,
   "metadata": {},
   "outputs": [],
   "source": [
    "#!pip install kaggle"
   ]
  },
  {
   "cell_type": "code",
   "execution_count": 3,
   "metadata": {},
   "outputs": [],
   "source": [
    "# Importar las bibliotecas necesarias\n",
    "import pandas as pd\n",
    "import psycopg2\n",
    "import kaggle\n",
    "import zipfile\n",
    "import os\n",
    "from kaggle.api.kaggle_api_extended import KaggleApi\n"
   ]
  },
  {
   "cell_type": "code",
   "execution_count": 4,
   "metadata": {},
   "outputs": [
    {
     "name": "stdout",
     "output_type": "stream",
     "text": [
      "anandshaw2001/netflix-movies-and-tv-shows\n",
      "ashaychoudhary/indian-laptop-purchase-dataset-online-and-offline\n",
      "ankushpanday1/global-road-accidents-dataset\n",
      "ashaychoudhary/anxiety-attack-factors-symptoms-and-severity\n",
      "oktayrdeki/traffic-accidents\n",
      "ruchikakumbhar/obesity-prediction\n",
      "ahmedmohamed2003/cafe-sales-dirty-data-for-cleaning-training\n",
      "ashaychoudhary/dataset-mba-decision-after-bachelors\n",
      "ankushpanday1/investment-trends-in-indian-startups-20002023\n",
      "gautamdeora7/food-delivery-time-a-multi-factor-dataset\n"
     ]
    }
   ],
   "source": [
    "# Autenticar la API\n",
    "api = KaggleApi()\n",
    "api.authenticate()\n",
    "\n",
    "# Listar datasets disponibles\n",
    "datasets = api.dataset_list()\n",
    "\n",
    "# Mostrar los primeros 10 datasets\n",
    "for dataset in datasets[:10]:\n",
    "    print(dataset)"
   ]
  },
  {
   "cell_type": "code",
   "execution_count": 5,
   "metadata": {},
   "outputs": [
    {
     "name": "stdout",
     "output_type": "stream",
     "text": [
      "Dataset URL: https://www.kaggle.com/datasets/asaniczka/amazon-products-dataset-2023-1-4m-products\n"
     ]
    }
   ],
   "source": [
    "# Descargar el dataset de películas de Kaggle\n",
    "api.dataset_download_files('asaniczka/amazon-products-dataset-2023-1-4m-products', path='data/')"
   ]
  },
  {
   "cell_type": "code",
   "execution_count": 6,
   "metadata": {},
   "outputs": [],
   "source": [
    "# Descomprimir el archivo\n",
    "with zipfile.ZipFile('data/amazon-products-dataset-2023-1-4m-products.zip', 'r') as zip_ref:\n",
    "    zip_ref.extractall('data/')"
   ]
  },
  {
   "cell_type": "code",
   "execution_count": null,
   "metadata": {},
   "outputs": [],
   "source": [
    "# Cargar el archivo CSV en un DataFrame de pandas\n",
    "file_path = ''\n",
    "df = pd.read_csv(file_path)\n",
    "\n",
    "# Mostrar las primeras filas del DataFrame\n",
    "#print(df.head())"
   ]
  },
  {
   "cell_type": "markdown",
   "metadata": {},
   "source": [
    "Comandos para explorar el DataFrame"
   ]
  },
  {
   "cell_type": "code",
   "execution_count": null,
   "metadata": {},
   "outputs": [],
   "source": [
    "\n",
    "#df.info()  # Muestra el número de entradas, nombres de columnas, tipos de datos, valores nulos, etc.\n",
    "#df.describe()  # Proporciona estadísticas como media, desviación estándar, percentiles, etc.\n",
    "#df.columns  # Muestra los nombres de las columnas\n",
    "#df.isnull().sum()  # Muestra la cantidad de valores nulos por cada columna\n",
    "#df.dtypes  # Muestra los tipos de datos de las columnas\n",
    "#df.shape  # Devuelve una tupla (número de filas, número de columnas)\n"
   ]
  }
 ],
 "metadata": {
  "kernelspec": {
   "display_name": "hft",
   "language": "python",
   "name": "python3"
  },
  "language_info": {
   "codemirror_mode": {
    "name": "ipython",
    "version": 3
   },
   "file_extension": ".py",
   "mimetype": "text/x-python",
   "name": "python",
   "nbconvert_exporter": "python",
   "pygments_lexer": "ipython3",
   "version": "3.11.5"
  }
 },
 "nbformat": 4,
 "nbformat_minor": 2
}
