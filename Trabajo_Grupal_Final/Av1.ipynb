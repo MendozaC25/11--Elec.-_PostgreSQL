{
 "cells": [
  {
   "cell_type": "markdown",
   "id": "b05dc676-5ec6-4628-8d74-93652e61a33a",
   "metadata": {},
   "source": [
    "# PostgreSQL para Ciencia de Datos - Avance 1"
   ]
  },
  {
   "cell_type": "markdown",
   "id": "04064522-c063-41e9-af89-77c347ee75f0",
   "metadata": {},
   "source": [
    "## Paquetes"
   ]
  },
  {
   "cell_type": "code",
   "execution_count": 18,
   "id": "566a9145-9b96-4b31-ae53-a1eb847529da",
   "metadata": {},
   "outputs": [],
   "source": [
    "#!pip install kagglehub\n",
    "#!pip install psycopg2\n",
    "import psycopg2\n",
    "import pandas as pd\n",
    "import matplotlib.pyplot as plt\n",
    "import seaborn as sns\n",
    "import kagglehub"
   ]
  },
  {
   "cell_type": "markdown",
   "id": "14568419-c9a4-45d4-b511-c91cd81fd3cb",
   "metadata": {},
   "source": [
    "## Conexion a Postgres"
   ]
  },
  {
   "cell_type": "code",
   "execution_count": 2,
   "id": "87ff2693-e1d7-4927-ad05-e8950cc29889",
   "metadata": {},
   "outputs": [
    {
     "name": "stdout",
     "output_type": "stream",
     "text": [
      "Conexión exitosa a la base de datos.\n"
     ]
    }
   ],
   "source": [
    "# Establecer la conexión a la base de datos\n",
    "def conectar_a_base_de_datos():\n",
    "    conn_info = {\n",
    "        \"host\": \"localhost\",  # Cambia esto si tu base no está en localhost\n",
    "        \"database\": \"QLAB\",\n",
    "        \"user\": \"postgres\",\n",
    "        \"password\": \"485174\",\n",
    "        \"port\": 7777  # Puerto por defecto\n",
    "    }\n",
    "    \n",
    "    try:\n",
    "        # Establecer conexión con la base de datos\n",
    "        conn = psycopg2.connect(**conn_info)\n",
    "        print(\"Conexión exitosa a la base de datos.\")\n",
    "        return conn\n",
    "    except Exception as e:\n",
    "        print(f\"Error al conectar a la base de datos: {e}\")\n",
    "        return None\n",
    "\n",
    "# Conectar a la base de datos\n",
    "conn = conectar_a_base_de_datos()"
   ]
  },
  {
   "cell_type": "markdown",
   "id": "0d22ba80-f9a3-41f5-b8a7-0ef0c91412c3",
   "metadata": {
    "jp-MarkdownHeadingCollapsed": true
   },
   "source": [
    "## Carga de datos"
   ]
  },
  {
   "cell_type": "code",
   "execution_count": 11,
   "id": "379e58d2-3b92-474c-9af8-7c007ef350e1",
   "metadata": {},
   "outputs": [
    {
     "name": "stdout",
     "output_type": "stream",
     "text": [
      "Path to dataset files: C:\\Users\\mendo\\.cache\\kagglehub\\datasets\\abdullahalkamal\\world-hapiness-report-2015-2019\\versions\\1\n"
     ]
    }
   ],
   "source": [
    "# Download latest version\n",
    "path_happy = kagglehub.dataset_download(\"abdullahalkamal/world-hapiness-report-2015-2019\")\n",
    "\n",
    "print(\"Path to dataset files:\", path_happy)"
   ]
  },
  {
   "cell_type": "code",
   "execution_count": 12,
   "id": "771c06a5-5408-45a7-911f-c2f7bfb57a11",
   "metadata": {},
   "outputs": [
    {
     "name": "stdout",
     "output_type": "stream",
     "text": [
      "Path to dataset files: C:\\Users\\mendo\\.cache\\kagglehub\\datasets\\ulrikthygepedersen\\migration\\versions\\1\n"
     ]
    }
   ],
   "source": [
    "# Download latest version\n",
    "path_migration = kagglehub.dataset_download(\"ulrikthygepedersen/migration\")\n",
    "\n",
    "print(\"Path to dataset files:\", path_migration)"
   ]
  },
  {
   "cell_type": "code",
   "execution_count": 22,
   "id": "cda98459-21e4-4ed8-bb96-466dc68e9b01",
   "metadata": {
    "scrolled": true
   },
   "outputs": [
    {
     "name": "stdout",
     "output_type": "stream",
     "text": [
      "  country_code country_name  year  value\n",
      "0          ABW        Aruba  1960    0.0\n",
      "1          ABW        Aruba  1961 -569.0\n",
      "2          ABW        Aruba  1962 -609.0\n",
      "3          ABW        Aruba  1963 -646.0\n",
      "4          ABW        Aruba  1964 -684.0\n",
      "       Country                           Region  Rank 2015  Score 2015  \\\n",
      "0  Afghanistan                    Southern Asia        153       3.575   \n",
      "1      Albania       Central and Eastern Europe         95       4.959   \n",
      "2      Algeria  Middle East and Northern Africa         68       5.605   \n",
      "3       Angola               Sub-Saharan Africa        137       4.033   \n",
      "4    Argentina      Latin America and Caribbean         30       6.574   \n",
      "\n",
      "   GDP 2015  Family 2015  Life Expectancy 2015  Freedom 2015  Trust 2015  \\\n",
      "0   0.31982      0.30285               0.30335       0.23414     0.09719   \n",
      "1   0.87867      0.80434               0.81325       0.35733     0.06413   \n",
      "2   0.93929      1.07772               0.61766       0.28579     0.17383   \n",
      "3   0.75778      0.86040               0.16683       0.10384     0.07122   \n",
      "4   1.05351      1.24823               0.78723       0.44974     0.08484   \n",
      "\n",
      "   Generosity 2015  Dystopia Residual  \n",
      "0          0.36510            1.95210  \n",
      "1          0.14272            1.89894  \n",
      "2          0.07822            2.43209  \n",
      "3          0.12344            1.94939  \n",
      "4          0.11451            2.83600  \n",
      "       Country                           Region  Rank 2016  Score 2016  \\\n",
      "0  Afghanistan                    Southern Asia        154       3.360   \n",
      "1      Albania       Central and Eastern Europe        109       4.655   \n",
      "2      Algeria  Middle East and Northern Africa         38       6.355   \n",
      "3       Angola               Sub-Saharan Africa        141       3.866   \n",
      "4    Argentina      Latin America and Caribbean         26       6.650   \n",
      "\n",
      "   GDP 2016  Family 2016  Life Expectancy 2016  Freedom 2016  Trust 2016  \\\n",
      "0   0.38227      0.11037               0.17344       0.16430     0.07112   \n",
      "1   0.95530      0.50163               0.73007       0.31866     0.05301   \n",
      "2   1.05266      0.83309               0.61804       0.21006     0.16157   \n",
      "3   0.84731      0.66366               0.04991       0.00589     0.08434   \n",
      "4   1.15137      1.06612               0.69711       0.42284     0.07296   \n",
      "\n",
      "   Generosity 2016  Dystopia Residual  \n",
      "0          0.31268            2.14558  \n",
      "1          0.16840            1.92816  \n",
      "2          0.07044            3.40904  \n",
      "3          0.12071            2.09459  \n",
      "4          0.10989            3.12985  \n",
      "       Country                           Region  Rank 2017  Score 2017  \\\n",
      "0  Afghanistan                    Southern Asia        141       3.794   \n",
      "1      Albania       Central and Eastern Europe        109       4.644   \n",
      "2      Algeria  Middle East and Northern Africa         53       5.872   \n",
      "3       Angola               Sub-Saharan Africa        140       3.795   \n",
      "4    Argentina      Latin America and Caribbean         24       6.599   \n",
      "\n",
      "   GDP 2017  Family 2017  Life Expectancy 2017  Freedom 2017  Trust 2017  \\\n",
      "0  0.401477     0.581543              0.180747      0.106180    0.061158   \n",
      "1  0.996193     0.803685              0.731160      0.381499    0.039864   \n",
      "2  1.091864     1.146217              0.617585      0.233336    0.146096   \n",
      "3  0.858428     1.104412              0.049869      0.000000    0.069720   \n",
      "4  1.185295     1.440451              0.695137      0.494519    0.059740   \n",
      "\n",
      "   Generosity 2017  Dystopia.Residual  \n",
      "0         0.311871           2.150801  \n",
      "1         0.201313           1.490442  \n",
      "2         0.069437           2.567604  \n",
      "3         0.097926           1.614482  \n",
      "4         0.109457           2.614005  \n",
      "       Country                           Region  Rank 2018  Score 2018  \\\n",
      "0  Afghanistan                    Southern Asia        145       3.632   \n",
      "1      Albania       Central and Eastern Europe        112       4.586   \n",
      "2      Algeria  Middle East and Northern Africa         84       5.295   \n",
      "3       Angola               Sub-Saharan Africa        142       3.795   \n",
      "4    Argentina      Latin America and Caribbean         29       6.388   \n",
      "\n",
      "   GDP 2018  Family 2018  Life Expectancy 2018  Freedom 2018  Trust 2018  \\\n",
      "0     0.332        0.537                 0.255         0.085       0.036   \n",
      "1     0.916        0.817                 0.790         0.419       0.032   \n",
      "2     0.979        1.154                 0.687         0.077       0.135   \n",
      "3     0.730        1.125                 0.269         0.000       0.061   \n",
      "4     1.073        1.468                 0.744         0.570       0.054   \n",
      "\n",
      "   Generosity 2018  \n",
      "0            0.191  \n",
      "1            0.149  \n",
      "2            0.055  \n",
      "3            0.079  \n",
      "4            0.062  \n",
      "       Country                           Region  Rank 2019  Score 2019  \\\n",
      "0  Afghanistan                    Southern Asia        154       3.203   \n",
      "1      Albania       Central and Eastern Europe        107       4.719   \n",
      "2      Algeria  Middle East and Northern Africa         88       5.211   \n",
      "3    Argentina      Latin America and Caribbean         47       6.086   \n",
      "4      Armenia       Central and Eastern Europe        116       4.559   \n",
      "\n",
      "   GDP 2019  Family 2019  Life Expectancy 2019  Freedom 2019  Trust 2019  \\\n",
      "0     0.350        0.517                 0.361         0.000       0.025   \n",
      "1     0.947        0.848                 0.874         0.383       0.027   \n",
      "2     1.002        1.160                 0.785         0.086       0.114   \n",
      "3     1.092        1.432                 0.881         0.471       0.050   \n",
      "4     0.850        1.055                 0.815         0.283       0.064   \n",
      "\n",
      "   Generosity 2019  \n",
      "0            0.158  \n",
      "1            0.178  \n",
      "2            0.073  \n",
      "3            0.066  \n",
      "4            0.095  \n"
     ]
    }
   ],
   "source": [
    "# Cargar los archivos CSV en pandas\n",
    "df_migration = pd.read_csv(path_migration + \"/net_migration_by_country.csv\")\n",
    "df_happy_15 = pd.read_csv(path_happy + \"/data-2015.csv\")\n",
    "df_happy_16 = pd.read_csv(path_happy + \"/data-2016.csv\")\n",
    "df_happy_17 = pd.read_csv(path_happy + \"/data-2017.csv\")\n",
    "df_happy_18 = pd.read_csv(path_happy + \"/data-2018.csv\")\n",
    "df_happy_19 = pd.read_csv(path_happy + \"/data-2019.csv\")\n",
    "\n",
    "# Ver las primeras filas\n",
    "print(df_migration.head())\n",
    "\n",
    "print(df_happy_15.head())\n",
    "print(df_happy_16.head())\n",
    "print(df_happy_17.head())\n",
    "print(df_happy_18.head())\n",
    "print(df_happy_19.head())\n"
   ]
  },
  {
   "cell_type": "markdown",
   "id": "5e9acc29-f334-4753-a1ce-ed4132abb812",
   "metadata": {},
   "source": [
    "## Paso 2"
   ]
  },
  {
   "cell_type": "code",
   "execution_count": null,
   "id": "636f81f6-a8ad-428f-9dd4-f3a1b49ee578",
   "metadata": {},
   "outputs": [],
   "source": []
  }
 ],
 "metadata": {
  "kernelspec": {
   "display_name": "Python 3.13",
   "language": "python",
   "name": "python313"
  },
  "language_info": {
   "codemirror_mode": {
    "name": "ipython",
    "version": 3
   },
   "file_extension": ".py",
   "mimetype": "text/x-python",
   "name": "python",
   "nbconvert_exporter": "python",
   "pygments_lexer": "ipython3",
   "version": "3.13.2"
  }
 },
 "nbformat": 4,
 "nbformat_minor": 5
}
