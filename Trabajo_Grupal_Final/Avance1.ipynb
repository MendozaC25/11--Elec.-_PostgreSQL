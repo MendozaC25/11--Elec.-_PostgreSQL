{
 "cells": [
  {
   "cell_type": "markdown",
   "metadata": {},
   "source": [
    "# **QLAB - PostgreSQL para Ciencia de Datos - Avance 1**\n",
    "15-FEB-2025"
   ]
  },
  {
   "cell_type": "markdown",
   "metadata": {},
   "source": [
    "## **1.** Importamos las librerías necesarias"
   ]
  },
  {
   "cell_type": "code",
   "execution_count": 1,
   "metadata": {},
   "outputs": [],
   "source": [
    "import pandas as pd\n",
    "import psycopg2\n",
    "import os"
   ]
  },
  {
   "cell_type": "markdown",
   "metadata": {},
   "source": [
    "## **2.** Hacemos la carga de archivos y hacemos las transformaciones necesarias"
   ]
  },
  {
   "cell_type": "code",
   "execution_count": 2,
   "metadata": {},
   "outputs": [],
   "source": [
    "# 📌 1️⃣ Cargar los archivos CSV y normalizar los datos\n",
    "files = {\n",
    "    \"2015\": \"data-2015.csv\",\n",
    "    \"2016\": \"data-2016.csv\",\n",
    "    \"2017\": \"data-2017.csv\",\n",
    "    \"2018\": \"data-2018.csv\",\n",
    "    \"2019\": \"data-2019.csv\",\n",
    "    \"migration\": \"net_migration_by_country.csv\"\n",
    "}\n",
    "\n",
    "# Lista para almacenar los dataframes de felicidad\n",
    "happiness_data = []\n",
    "\n",
    "# Procesar cada archivo de felicidad (2015-2019)\n",
    "for year, path in files.items():\n",
    "    if year != \"migration\":  # Excluir dataset de migración\n",
    "        df = pd.read_csv(path)\n",
    "        \n",
    "        # Renombrar columnas para estandarizarlas\n",
    "        rename_dict = {\n",
    "            f\"Score {year}\": \"happiness_score\",\n",
    "            f\"GDP {year}\": \"gdp_per_capita\",\n",
    "            f\"Family {year}\": \"social_support\",\n",
    "            f\"Life Expectancy {year}\": \"healthy_life_expectancy\",\n",
    "            f\"Freedom {year}\": \"freedom_to_make_choices\",\n",
    "            f\"Trust {year}\": \"corruption_perception\",\n",
    "            f\"Generosity {year}\": \"generosity\"\n",
    "        }\n",
    "        \n",
    "        # Aplicar cambios de nombre y seleccionar solo las columnas necesarias\n",
    "        df = df.rename(columns=rename_dict)\n",
    "        df = df[[\"Country\", \"Region\",\"happiness_score\", \"gdp_per_capita\", \"social_support\",\n",
    "                 \"healthy_life_expectancy\", \"freedom_to_make_choices\", \"corruption_perception\", \"generosity\"]]\n",
    "        \n",
    "        # Agregar la columna del año\n",
    "        df[\"year\"] = int(year)\n",
    "        \n",
    "        # Agregar a la lista de dataframes\n",
    "        happiness_data.append(df)\n",
    "\n",
    "# Unir todos los datasets de felicidad en uno solo\n",
    "happiness_df = pd.concat(happiness_data, ignore_index=True)\n",
    "\n",
    "# Renombrar columna \"Country\" a \"country\" para que coincida con el dataset de migración\n",
    "happiness_df = happiness_df.rename(columns={\"Country\": \"country\"})\n",
    "happiness_df = happiness_df.rename(columns={\"Region\": \"region\"})\n",
    "\n",
    "\n",
    "# 📌 2️⃣ Cargar y filtrar los datos de migración\n",
    "migration_df = pd.read_csv(files[\"migration\"])\n",
    "migration_df = migration_df[(migration_df[\"year\"] >= 2015) & (migration_df[\"year\"] <= 2019)]\n",
    "\n",
    "# Renombrar columnas para que coincidan con happiness_df\n",
    "migration_df = migration_df.rename(columns={\n",
    "    \"country_name\": \"country\",\n",
    "    \"value\": \"net_migration\"\n",
    "})\n",
    "\n",
    "# Seleccionar solo las columnas necesarias\n",
    "migration_df = migration_df[[\"country\", \"year\", \"net_migration\"]]"
   ]
  },
  {
   "cell_type": "markdown",
   "metadata": {},
   "source": [
    "## **3.** Conexión a postgre, creación de BBDD y carga de tablas \n",
    "Recordar cambiar las credenciales necesarias para hacer la conexión con PostgreSQL y tener este script en la misma carpeta que los dataset (.csv)."
   ]
  },
  {
   "cell_type": "code",
   "execution_count": 3,
   "metadata": {},
   "outputs": [
    {
     "name": "stdout",
     "output_type": "stream",
     "text": [
      "⚠️ La base de datos 'avance_1' ya existe.\n",
      "✅ Conexión exitosa a la base de datos 'avance_1'.\n",
      "✅ Tablas 'Country', 'Happiness' y 'Migration' creadas correctamente en 'avance_1'.\n",
      "⏳ Insertando datos en Country...\n"
     ]
    },
    {
     "ename": "NameError",
     "evalue": "name 'row' is not defined",
     "output_type": "error",
     "traceback": [
      "\u001b[1;31m---------------------------------------------------------------------------\u001b[0m",
      "\u001b[1;31mNameError\u001b[0m                                 Traceback (most recent call last)",
      "Cell \u001b[1;32mIn[3], line 90\u001b[0m\n\u001b[0;32m     85\u001b[0m \u001b[38;5;66;03m# 📌 6️⃣ Insertar datos en la tabla Country\u001b[39;00m\n\u001b[0;32m     86\u001b[0m \u001b[38;5;28mprint\u001b[39m(\u001b[38;5;124m\"\u001b[39m\u001b[38;5;124m⏳ Insertando datos en Country...\u001b[39m\u001b[38;5;124m\"\u001b[39m)\n\u001b[0;32m     87\u001b[0m cursor\u001b[38;5;241m.\u001b[39mexecute(\u001b[38;5;124m\"\"\"\u001b[39m\n\u001b[0;32m     88\u001b[0m \u001b[38;5;124m        INSERT INTO Country (country, region)\u001b[39m\n\u001b[0;32m     89\u001b[0m \u001b[38;5;124m        VALUES (\u001b[39m\u001b[38;5;132;01m%s\u001b[39;00m\u001b[38;5;124m, \u001b[39m\u001b[38;5;132;01m%s\u001b[39;00m\u001b[38;5;124m)\u001b[39m\n\u001b[1;32m---> 90\u001b[0m \u001b[38;5;124m    \u001b[39m\u001b[38;5;124m\"\"\"\u001b[39m, (\u001b[43mrow\u001b[49m[\u001b[38;5;124m\"\u001b[39m\u001b[38;5;124mcountry\u001b[39m\u001b[38;5;124m\"\u001b[39m][:\u001b[38;5;241m25\u001b[39m], row[\u001b[38;5;124m\"\u001b[39m\u001b[38;5;124mregion\u001b[39m\u001b[38;5;124m\"\u001b[39m][:\u001b[38;5;241m25\u001b[39m]))  \u001b[38;5;66;03m# Recorta a 25 caracteres\u001b[39;00m\n\u001b[0;32m     92\u001b[0m \u001b[38;5;28mprint\u001b[39m(\u001b[38;5;124m\"\u001b[39m\u001b[38;5;124m✅ Datos insertados en Country.\u001b[39m\u001b[38;5;124m\"\u001b[39m)\n\u001b[0;32m     94\u001b[0m \u001b[38;5;66;03m# 📌 7️⃣ Insertar datos en la tabla Happiness\u001b[39;00m\n",
      "\u001b[1;31mNameError\u001b[0m: name 'row' is not defined"
     ]
    }
   ],
   "source": [
    "# 📌 3️⃣ Conectar a PostgreSQL y crear la base de datos \"avance_1\" si no existe\n",
    "def crear_base_de_datos():\n",
    "    try:\n",
    "        conn = psycopg2.connect(\n",
    "            dbname=\"postgres\",\n",
    "            user=\"postgres\",\n",
    "            password=\"485174\",\n",
    "            host=\"localhost\",\n",
    "            port=\"7777\"\n",
    "        )\n",
    "        conn.autocommit = True\n",
    "        cursor = conn.cursor()\n",
    "\n",
    "        # Crear la base de datos si no existe\n",
    "        cursor.execute(\"SELECT 1 FROM pg_database WHERE datname = 'avance_1';\")\n",
    "        existe = cursor.fetchone()\n",
    "\n",
    "        if not existe:\n",
    "            cursor.execute(\"CREATE DATABASE avance_1;\")\n",
    "            print(\"✅ Base de datos 'avance_1' creada correctamente.\")\n",
    "        else:\n",
    "            print(\"⚠️ La base de datos 'avance_1' ya existe.\")\n",
    "\n",
    "        cursor.close()\n",
    "        conn.close()\n",
    "    except Exception as e:\n",
    "        print(f\"❌ Error al crear la base de datos: {e}\")\n",
    "\n",
    "crear_base_de_datos()\n",
    "\n",
    "# 📌 4️⃣ Conectar a la nueva base de datos \"avance_1\"\n",
    "def conectar_a_base_de_datos():\n",
    "    try:\n",
    "        conn = psycopg2.connect(\n",
    "            dbname=\"avance_1\",\n",
    "            user=\"postgres\",\n",
    "            password=\"485174\",\n",
    "            host=\"localhost\",\n",
    "            port=\"7777\"\n",
    "        )\n",
    "        print(\"✅ Conexión exitosa a la base de datos 'avance_1'.\")\n",
    "        return conn\n",
    "    except Exception as e:\n",
    "        print(f\"❌ Error al conectar a la base de datos: {e}\")\n",
    "        return None\n",
    "\n",
    "conn = conectar_a_base_de_datos()\n",
    "cursor = conn.cursor()\n",
    "\n",
    "# 📌 5️⃣ Crear las tablas en PostgreSQL\n",
    "cursor.execute(\"\"\"\n",
    "    CREATE TABLE IF NOT EXISTS Country (\n",
    "    id SERIAL PRIMARY KEY,\n",
    "    country VARCHAR(25) UNIQUE,\n",
    "    region VARCHAR(32) UNIQUE\n",
    "    )\n",
    "\"\"\")\n",
    "\n",
    "cursor.execute(\"\"\"\n",
    "    CREATE TABLE IF NOT EXISTS Happiness (\n",
    "    id SERIAL PRIMARY KEY,\n",
    "    country_id INT REFERENCES Country(id),\n",
    "    year INT,\n",
    "    happiness_score FLOAT,\n",
    "    gdp_per_capita FLOAT,\n",
    "    social_support FLOAT,\n",
    "    healthy_life_expectancy FLOAT,\n",
    "    freedom_to_make_choices FLOAT,\n",
    "    corruption_perception FLOAT,\n",
    "    generosity FLOAT\n",
    "    )\n",
    "\"\"\")\n",
    "\n",
    "cursor.execute(\"\"\"\n",
    "    CREATE TABLE IF NOT EXISTS Migration (\n",
    "    id SERIAL PRIMARY KEY,\n",
    "    country_id INT REFERENCES Country(id),\n",
    "    year INT,\n",
    "    net_migration INT\n",
    "    )\n",
    "\"\"\")\n",
    "conn.commit()\n",
    "print(\"✅ Tablas 'Country', 'Happiness' y 'Migration' creadas correctamente en 'avance_1'.\")\n",
    "\n",
    "# 📌 6️⃣ Insertar datos en la tabla Country\n",
    "print(\"⏳ Insertando datos en Country...\")\n",
    "cursor.execute(\"\"\"\n",
    "        INSERT INTO Country (country, region)\n",
    "        VALUES (%s, %s)\n",
    "    \"\"\", (row[\"country\"][:25], row[\"region\"][:25]))  # Recorta a 25 caracteres\n",
    "\n",
    "print(\"✅ Datos insertados en Country.\")\n",
    "\n",
    "# 📌 7️⃣ Insertar datos en la tabla Happiness\n",
    "print(\"⏳ Insertando datos en Happiness...\")\n",
    "for _, row in happiness_df.iterrows():\n",
    "    cursor.execute(\"\"\"\n",
    "        INSERT INTO Happiness (year, happiness_score, gdp_per_capita, social_support, \n",
    "                                      healthy_life_expectancy, freedom_to_make_choices, corruption_perception, \n",
    "                                      generosity)\n",
    "        VALUES (%s, %s, %s, %s, %s, %s, %s, %s)\n",
    "    \"\"\", (row[\"year\"], row[\"happiness_score\"], row[\"gdp_per_capita\"], \n",
    "          row[\"social_support\"], row[\"healthy_life_expectancy\"], row[\"freedom_to_make_choices\"],\n",
    "          row[\"corruption_perception\"], row[\"generosity\"]))\n",
    "\n",
    "print(\"✅ Datos insertados en migration_data.\")\n",
    "\n",
    "# 📌 8️⃣ Insertar datos en la tabla Migration\n",
    "print(\"⏳ Insertando datos en Migration...\")\n",
    "for _, row in migration_df.iterrows():\n",
    "    cursor.execute(\"\"\"\n",
    "        INSERT INTO Migration (year, net_migration)\n",
    "        VALUES (%s, %s)\n",
    "    \"\"\", (row[\"year\"], row[\"net_migration\"]))\n",
    "\n",
    "print(\"✅ Datos insertados en Migration.\")\n",
    "\n",
    "# 📌 8️⃣ Confirmar y cerrar conexión\n",
    "conn.commit()\n",
    "cursor.close()\n",
    "conn.close()\n",
    "print(\"✅ Conexión cerrada.\")"
   ]
  },
  {
   "cell_type": "code",
   "execution_count": 28,
   "metadata": {},
   "outputs": [
    {
     "name": "stdout",
     "output_type": "stream",
     "text": [
      "24\n",
      "31\n"
     ]
    }
   ],
   "source": [
    "print(happiness_df[\"country\"].apply(len).max())  # Máxima longitud de 'country'\n",
    "print(happiness_df[\"region\"].apply(len).max())   # Máxima longitud de 'region'"
   ]
  }
 ],
 "metadata": {
  "kernelspec": {
   "display_name": "Python 3.13",
   "language": "python",
   "name": "python313"
  },
  "language_info": {
   "codemirror_mode": {
    "name": "ipython",
    "version": 3
   },
   "file_extension": ".py",
   "mimetype": "text/x-python",
   "name": "python",
   "nbconvert_exporter": "python",
   "pygments_lexer": "ipython3",
   "version": "3.13.2"
  }
 },
 "nbformat": 4,
 "nbformat_minor": 4
}
