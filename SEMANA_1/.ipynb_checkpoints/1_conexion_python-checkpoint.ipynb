{
 "cells": [
  {
   "cell_type": "code",
   "execution_count": 5,
   "metadata": {},
   "outputs": [],
   "source": [
    "import psycopg2\n",
    "import pandas as pd\n",
    "import matplotlib.pyplot as plt\n",
    "import seaborn as sns"
   ]
  },
  {
   "cell_type": "code",
   "execution_count": 6,
   "metadata": {},
   "outputs": [],
   "source": [
    "import os"
   ]
  },
  {
   "cell_type": "code",
   "execution_count": 2,
   "metadata": {},
   "outputs": [
    {
     "name": "stdout",
     "output_type": "stream",
     "text": [
      "Collecting psycopg2\n",
      "  Obtaining dependency information for psycopg2 from https://files.pythonhosted.org/packages/33/39/5a9a229bb5414abeb86e33b8fc8143ab0aecce5a7f698a53e31367d30caa/psycopg2-2.9.10-cp311-cp311-win_amd64.whl.metadata\n",
      "  Using cached psycopg2-2.9.10-cp311-cp311-win_amd64.whl.metadata (5.0 kB)\n",
      "Using cached psycopg2-2.9.10-cp311-cp311-win_amd64.whl (1.2 MB)\n",
      "Installing collected packages: psycopg2\n",
      "Successfully installed psycopg2-2.9.10\n"
     ]
    }
   ],
   "source": [
    "!pip install psycopg2"
   ]
  },
  {
   "cell_type": "code",
   "execution_count": 7,
   "metadata": {},
   "outputs": [
    {
     "name": "stdout",
     "output_type": "stream",
     "text": [
      "Conexión exitosa a la base de datos.\n"
     ]
    }
   ],
   "source": [
    "# Establecer la conexión a la base de datos\n",
    "def conectar_a_base_de_datos():\n",
    "    conn_info = {\n",
    "        \"host\": \"localhost\",  # Cambia esto si tu base no está en localhost\n",
    "        \"database\": \"Northwind\",\n",
    "        \"user\": \"postgres\",\n",
    "        \"password\": os.getenv('ypass_psql'),\n",
    "        \"port\": 5432  # Puerto por defecto\n",
    "    }\n",
    "    \n",
    "    try:\n",
    "        # Establecer conexión con la base de datos\n",
    "        conn = psycopg2.connect(**conn_info)\n",
    "        print(\"Conexión exitosa a la base de datos.\")\n",
    "        return conn\n",
    "    except Exception as e:\n",
    "        print(f\"Error al conectar a la base de datos: {e}\")\n",
    "        return None\n",
    "\n",
    "# Conectar a la base de datos\n",
    "conn = conectar_a_base_de_datos()"
   ]
  },
  {
   "cell_type": "code",
   "execution_count": 8,
   "metadata": {},
   "outputs": [
    {
     "name": "stderr",
     "output_type": "stream",
     "text": [
      "C:\\Users\\YOSEPH\\AppData\\Local\\Temp\\ipykernel_28544\\1217036873.py:3: UserWarning: pandas only supports SQLAlchemy connectable (engine/connection) or database string URI or sqlite3 DBAPI2 connection. Other DBAPI2 objects are not tested. Please consider using SQLAlchemy.\n",
      "  return pd.read_sql_query(query, conn)\n"
     ]
    },
    {
     "data": {
      "text/plain": [
       "(   customerid                        customername         contactname  \\\n",
       " 0           1                 Alfreds Futterkiste        Maria Anders   \n",
       " 1           2  Ana Trujillo Emparedados y helados        Ana Trujillo   \n",
       " 2           3             Antonio Moreno Taquería      Antonio Moreno   \n",
       " 3           4                     Around the Horn        Thomas Hardy   \n",
       " 4           5                  Berglunds snabbköp  Christina Berglund   \n",
       " \n",
       "                          address         city postalcode  country  \n",
       " 0                  Obere Str. 57       Berlin      12209  Germany  \n",
       " 1  Avda. de la Constitución 2222  México D.F.       5021   Mexico  \n",
       " 2                 Mataderos 2312  México D.F.       5023   Mexico  \n",
       " 3                120 Hanover Sq.       London    WA1 1DP       UK  \n",
       " 4                 Berguvsvägen 8        Luleå   S-958 22   Sweden  ,\n",
       "    orderid  customerid  employeeid  orderdate  shipperid\n",
       " 0    10248          90           5 1996-07-04          3\n",
       " 1    10249          81           6 1996-07-05          1\n",
       " 2    10250          34           4 1996-07-08          2\n",
       " 3    10251          84           3 1996-07-08          1\n",
       " 4    10252          76           4 1996-07-09          2,\n",
       "    orderdetailid  orderid  productid  quantity\n",
       " 0              1    10248         11        12\n",
       " 1              2    10248         42        10\n",
       " 2              3    10248         72         5\n",
       " 3              4    10249         14         9\n",
       " 4              5    10249         51        40,\n",
       "    productid                   productname  supplierid  categoryid  \\\n",
       " 0          1                         Chais           1           1   \n",
       " 1          2                         Chang           1           1   \n",
       " 2          3                 Aniseed Syrup           1           2   \n",
       " 3          4  Chef Anton's Cajun Seasoning           2           2   \n",
       " 4          5        Chef Anton's Gumbo Mix           2           2   \n",
       " \n",
       "                   unit  price  \n",
       " 0   10 boxes x 20 bags  18.00  \n",
       " 1   24 - 12 oz bottles  19.00  \n",
       " 2  12 - 550 ml bottles  10.00  \n",
       " 3       48 - 6 oz jars  22.00  \n",
       " 4             36 boxes  21.35  )"
      ]
     },
     "execution_count": 8,
     "metadata": {},
     "output_type": "execute_result"
    }
   ],
   "source": [
    "# Consulta para obtener los datos de las tablas\n",
    "def ejecutar_consulta(conn, query):\n",
    "    return pd.read_sql_query(query, conn)\n",
    "\n",
    "# Consultar datos de la tabla 'Customers'\n",
    "query_customers = \"SELECT * FROM Customers;\"\n",
    "customers_df = ejecutar_consulta(conn, query_customers)\n",
    "\n",
    "# Consultar datos de la tabla 'Orders'\n",
    "query_orders = \"SELECT * FROM Orders;\"\n",
    "orders_df = ejecutar_consulta(conn, query_orders)\n",
    "\n",
    "# Consultar datos de la tabla 'OrderDetails'\n",
    "query_order_details = \"SELECT * FROM OrderDetails;\"\n",
    "order_details_df = ejecutar_consulta(conn, query_order_details)\n",
    "\n",
    "# Consultar datos de la tabla 'Products'\n",
    "query_products = \"SELECT * FROM Products;\"\n",
    "products_df = ejecutar_consulta(conn, query_products)\n",
    "\n",
    "# Mostrar los primeros registros de cada tabla\n",
    "customers_df.head(), orders_df.head(), order_details_df.head(), products_df.head()\n"
   ]
  },
  {
   "cell_type": "code",
   "execution_count": 9,
   "metadata": {},
   "outputs": [
    {
     "data": {
      "text/plain": [
       "Index(['productid', 'productname', 'supplierid', 'categoryid', 'unit',\n",
       "       'price'],\n",
       "      dtype='object')"
      ]
     },
     "execution_count": 9,
     "metadata": {},
     "output_type": "execute_result"
    }
   ],
   "source": [
    "products_df.columns"
   ]
  },
  {
   "cell_type": "code",
   "execution_count": 16,
   "metadata": {},
   "outputs": [
    {
     "data": {
      "image/png": "[encoded data removed]",
      "text/plain": [
       "<Figure size 1000x600 with 1 Axes>"
      ]
     },
     "metadata": {},
     "output_type": "display_data"
    }
   ],
   "source": [
    "# Gráfico de distribución de precios de los productos\n",
    "plt.figure(figsize=(10, 6))\n",
    "sns.histplot(products_df['price'], kde=True, color='blue', bins=20)\n",
    "plt.title('Distribución de precios de los productos')\n",
    "plt.xlabel('Precio')\n",
    "plt.ylabel('Frecuencia')\n",
    "plt.show()\n"
   ]
  },
  {
   "cell_type": "code",
   "execution_count": 18,
   "metadata": {},
   "outputs": [
    {
     "name": "stdout",
     "output_type": "stream",
     "text": [
      "\n",
      "Conexión cerrada.\n"
     ]
    }
   ],
   "source": [
    "# Función para cerrar la conexión a la base de datos\n",
    "def cerrar_conexion(conn):\n",
    "    if conn:\n",
    "        conn.close()\n",
    "        print(\"\\nConexión cerrada.\")\n",
    "        \n",
    "# Cerrar la conexión\n",
    "cerrar_conexion(conn)\n"
   ]
  }
 ],
 "metadata": {
  "kernelspec": {
   "display_name": "hft",
   "language": "python",
   "name": "python3"
  },
  "language_info": {
   "codemirror_mode": {
    "name": "ipython",
    "version": 3
   },
   "file_extension": ".py",
   "mimetype": "text/x-python",
   "name": "python",
   "nbconvert_exporter": "python",
   "pygments_lexer": "ipython3",
   "version": "3.11.5"
  }
 },
 "nbformat": 4,
 "nbformat_minor": 2
}
